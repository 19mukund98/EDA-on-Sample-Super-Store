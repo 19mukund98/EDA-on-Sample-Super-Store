{
 "cells": [
  {
   "cell_type": "markdown",
   "id": "2c9baa94",
   "metadata": {},
   "source": [
    "# The Sparks Foundation"
   ]
  },
  {
   "cell_type": "markdown",
   "id": "36febaba",
   "metadata": {},
   "source": [
    "# Data Science & Business Analytics intern (May-2022)"
   ]
  },
  {
   "cell_type": "markdown",
   "id": "d45e729c",
   "metadata": {},
   "source": [
    "# Aurthor: Pramod Gunaware"
   ]
  },
  {
   "cell_type": "markdown",
   "id": "544e2894",
   "metadata": {},
   "source": [
    "# Task 3 : Exploratory Data Analysis (EDA-Retail) on Sample Superstore Dataset."
   ]
  },
  {
   "cell_type": "code",
   "execution_count": null,
   "id": "c420f254",
   "metadata": {},
   "outputs": [],
   "source": [
    "import pandas as pd\n",
    "import numpy as np\n",
    "import matplotlib.pyplot as plt\n",
    "import seaborn as sns\n",
    "import plotly.express as px\n",
    "\n",
    "import warnings\n",
    "warnings.filterwarnings('ignore')"
   ]
  },
  {
   "cell_type": "code",
   "execution_count": null,
   "id": "88082fc4",
   "metadata": {},
   "outputs": [],
   "source": [
    "df=pd.read_csv('SampleSuperstore.csv')"
   ]
  },
  {
   "cell_type": "markdown",
   "id": "4500d644",
   "metadata": {},
   "source": [
    "# Exploring data & basic insights"
   ]
  },
  {
   "cell_type": "code",
   "execution_count": null,
   "id": "4f6932f7",
   "metadata": {},
   "outputs": [],
   "source": [
    "df.shape"
   ]
  },
  {
   "cell_type": "code",
   "execution_count": null,
   "id": "d235f627",
   "metadata": {},
   "outputs": [],
   "source": [
    "df.head()"
   ]
  },
  {
   "cell_type": "code",
   "execution_count": null,
   "id": "b31457a0",
   "metadata": {},
   "outputs": [],
   "source": [
    "df.tail()"
   ]
  },
  {
   "cell_type": "code",
   "execution_count": null,
   "id": "92ab3f70",
   "metadata": {},
   "outputs": [],
   "source": [
    "df.info()"
   ]
  },
  {
   "cell_type": "code",
   "execution_count": null,
   "id": "bd3961f7",
   "metadata": {},
   "outputs": [],
   "source": [
    "df.isnull().sum()"
   ]
  },
  {
   "cell_type": "code",
   "execution_count": null,
   "id": "69c18491",
   "metadata": {},
   "outputs": [],
   "source": [
    "df.nunique()"
   ]
  },
  {
   "cell_type": "code",
   "execution_count": null,
   "id": "a9d4c68f",
   "metadata": {},
   "outputs": [],
   "source": [
    "df.drop('Country',axis=1,inplace=True)\n",
    "df.drop('Postal Code',axis=1,inplace=True)"
   ]
  },
  {
   "cell_type": "code",
   "execution_count": null,
   "id": "6cd5d5d0",
   "metadata": {},
   "outputs": [],
   "source": [
    "df.head()"
   ]
  },
  {
   "cell_type": "code",
   "execution_count": null,
   "id": "dafc6c0e",
   "metadata": {},
   "outputs": [],
   "source": [
    "df['Ship Mode'].value_counts()"
   ]
  },
  {
   "cell_type": "code",
   "execution_count": null,
   "id": "5c1e557d",
   "metadata": {},
   "outputs": [],
   "source": [
    "df['Segment'].value_counts()"
   ]
  },
  {
   "cell_type": "code",
   "execution_count": null,
   "id": "f94ba81a",
   "metadata": {},
   "outputs": [],
   "source": [
    "df['Region'].value_counts()"
   ]
  },
  {
   "cell_type": "code",
   "execution_count": null,
   "id": "564492ea",
   "metadata": {},
   "outputs": [],
   "source": [
    "df['Category'].value_counts()"
   ]
  },
  {
   "cell_type": "code",
   "execution_count": null,
   "id": "fda90e40",
   "metadata": {},
   "outputs": [],
   "source": [
    "df['Sub-Category'].value_counts()"
   ]
  },
  {
   "cell_type": "markdown",
   "id": "d1e5a1fe",
   "metadata": {},
   "source": [
    "# Visualization"
   ]
  },
  {
   "cell_type": "code",
   "execution_count": null,
   "id": "e561e8ff",
   "metadata": {},
   "outputs": [],
   "source": [
    "sns.pairplot(df)"
   ]
  },
  {
   "cell_type": "code",
   "execution_count": null,
   "id": "1099ce27",
   "metadata": {},
   "outputs": [],
   "source": [
    "plt.figure(figsize=(8,6))\n",
    "sns.heatmap(df.corr(),annot=True)\n",
    "plt.show()"
   ]
  },
  {
   "cell_type": "markdown",
   "id": "8f7b246a",
   "metadata": {},
   "source": [
    "* There is a positive correlation between Sales and Profit (Sales increases Profit increases)\n",
    "* There is a positive correlation between Quantity and Profit (Quantity increases Profit increases)\n",
    "* There is a negative correlation between Profit and Discount (Discount increases Profit decreases)\n",
    "* There is a negative correlation between Sales and Discount (Sales increases Discount decreases)\n",
    "* There is a nearly no correlation between Quantity and Discount "
   ]
  },
  {
   "cell_type": "markdown",
   "id": "c357c71a",
   "metadata": {},
   "source": [
    "# Profit & Sales analysis on the Shipment Mode"
   ]
  },
  {
   "cell_type": "code",
   "execution_count": null,
   "id": "3b4c3d44",
   "metadata": {},
   "outputs": [],
   "source": [
    "plt.figure()\n",
    "sns.countplot(data=df,x='Ship Mode')\n",
    "plt.title('Number of Sales in each shipment mode')\n",
    "plt.show()"
   ]
  },
  {
   "cell_type": "code",
   "execution_count": null,
   "id": "92688c33",
   "metadata": {},
   "outputs": [],
   "source": [
    "df.groupby(['Ship Mode'])[['Sales', 'Profit']].sum().sort_values('Profit').plot(kind='bar')\n",
    "plt.ticklabel_format(style='plain',axis='y')\n",
    "plt.title('Total Sales & Profit generated in each shipment mode')\n",
    "plt.show()"
   ]
  },
  {
   "cell_type": "code",
   "execution_count": null,
   "id": "dca3d713",
   "metadata": {},
   "outputs": [],
   "source": [
    "df.groupby(['Ship Mode'])[['Sales', 'Profit','Discount']].mean()"
   ]
  },
  {
   "cell_type": "code",
   "execution_count": null,
   "id": "a45febf7",
   "metadata": {},
   "outputs": [],
   "source": [
    "df.groupby(['Ship Mode'])[['Sales', 'Profit','Discount']].mean().plot.pie(subplots=True, figsize=(20,10), labels=df.groupby(['Ship Mode'])[['Sales', 'Profit']].mean().index, autopct='%1.1f%%', explode=(0.01,0.01,0.01,0.01))\n",
    "plt.show()"
   ]
  },
  {
   "cell_type": "markdown",
   "id": "8c2113eb",
   "metadata": {},
   "source": [
    "* Lowest sales: Standard Class(24.5%)\n",
    "* Highest sales: Same Day(25.5%)  \n",
    "* Lowest profit: Standard Class(23.3%)\n",
    "* Highest profit: First class(27.0%)\n",
    "*Though there is very little differences between the classes, still, maximum and minimum can be ascertained on seeing these analysis"
   ]
  },
  {
   "cell_type": "markdown",
   "id": "2a2ff0d1",
   "metadata": {},
   "source": [
    "# Profit & Sales analysis on basis of Segment"
   ]
  },
  {
   "cell_type": "code",
   "execution_count": null,
   "id": "26924237",
   "metadata": {},
   "outputs": [],
   "source": [
    "sns.countplot(data=df,x='Segment')\n",
    "plt.title('Number of Sales in each segment')\n",
    "plt.show()"
   ]
  },
  {
   "cell_type": "code",
   "execution_count": null,
   "id": "626a026b",
   "metadata": {},
   "outputs": [],
   "source": [
    "df.groupby(['Segment'])[['Sales', 'Profit']].sum().sort_values('Profit').plot(kind='bar')\n",
    "plt.ticklabel_format(style='plain',axis='y')\n",
    "plt.title('Total Sales & Profit generated in each Segment')\n",
    "plt.show()"
   ]
  },
  {
   "cell_type": "code",
   "execution_count": null,
   "id": "2c75a9ba",
   "metadata": {},
   "outputs": [],
   "source": [
    "df.groupby(['Segment'])[['Sales', 'Profit','Discount']].mean()"
   ]
  },
  {
   "cell_type": "code",
   "execution_count": null,
   "id": "1e91b96c",
   "metadata": {},
   "outputs": [],
   "source": [
    "df.groupby(['Segment'])[['Sales', 'Profit','Discount']].mean().plot.pie(subplots=True, figsize=(20,10), labels=df.groupby(['Segment'])[['Sales', 'Profit']].mean().index, autopct='%1.1f%%', explode=(0.01,0.01,0.01))\n",
    "plt.show()"
   ]
  },
  {
   "cell_type": "markdown",
   "id": "c59cdeda",
   "metadata": {},
   "source": [
    "* Lowest sales: Consumer(32%)\n",
    "* Highest sales: Home Office(34.5%)\n",
    "\n",
    "* Lowest profit: Consumer(28.7%)\n",
    "* Highest profit: Home Office(37.5%)\n",
    "* we can see that Consumer segmnet is leading in sales count but when it comes to profit making its not doing great "
   ]
  },
  {
   "cell_type": "markdown",
   "id": "c21b2a6c",
   "metadata": {},
   "source": [
    "# Profit & Sales analysis on basis of Region"
   ]
  },
  {
   "cell_type": "code",
   "execution_count": null,
   "id": "97c412ca",
   "metadata": {},
   "outputs": [],
   "source": [
    "sns.countplot(data=df,x='Region')\n",
    "plt.title('Number of Sales in each Region')\n",
    "plt.show()"
   ]
  },
  {
   "cell_type": "code",
   "execution_count": null,
   "id": "cd54f31f",
   "metadata": {},
   "outputs": [],
   "source": [
    "df.groupby(['Region'])[['Sales', 'Profit']].sum().sort_values('Profit').plot(kind='bar')\n",
    "plt.ticklabel_format(style='plain',axis='y')\n",
    "plt.title('Total Sales & Profit generated in each Region')\n",
    "plt.show()"
   ]
  },
  {
   "cell_type": "code",
   "execution_count": null,
   "id": "1ad56dc1",
   "metadata": {},
   "outputs": [],
   "source": [
    "df.groupby(['Region'])[['Sales', 'Profit','Discount']].mean()"
   ]
  },
  {
   "cell_type": "code",
   "execution_count": null,
   "id": "35584858",
   "metadata": {},
   "outputs": [],
   "source": [
    "df.groupby(['Region'])[['Sales', 'Profit','Discount']].mean().plot.pie(subplots=True, figsize=(20,10), labels=df.groupby(['Region'])[['Sales', 'Profit']].mean().index, autopct='%1.1f%%', explode=(0.01,0.01,0.01,0.01))\n",
    "plt.show()"
   ]
  },
  {
   "cell_type": "markdown",
   "id": "849faab4",
   "metadata": {},
   "source": [
    "* Lowest sales: Central(23.4%)\n",
    "* Highest sales: South(26.2%)\n",
    "\n",
    "* Lowest profit: Central(15.3%)\n",
    "* Highest profit: West(30.2%)\n",
    "* Central region is giving highest discount out of all regions and that is what affecting their profit making"
   ]
  },
  {
   "cell_type": "markdown",
   "id": "1ecab82b",
   "metadata": {},
   "source": [
    "# Profit & Sales analysis each State"
   ]
  },
  {
   "cell_type": "code",
   "execution_count": null,
   "id": "eb44047e",
   "metadata": {},
   "outputs": [],
   "source": [
    "plt.figure(figsize=(18,10))\n",
    "\n",
    "sns.countplot(df['State'])\n",
    "plt.title('Number of Sales in each State',fontsize=15)\n",
    "plt.xticks(rotation=90)\n",
    "plt.show()"
   ]
  },
  {
   "cell_type": "code",
   "execution_count": null,
   "id": "061d96bc",
   "metadata": {},
   "outputs": [],
   "source": [
    "px.bar(df.groupby('State').mean().reset_index().sort_values('Sales',ascending=False),x='State',y='Profit',color='Discount',hover_data=df.groupby('State').mean().reset_index().columns,\n",
    "      title='Sales & Profit genreted in each State')"
   ]
  },
  {
   "cell_type": "markdown",
   "id": "c63c642e",
   "metadata": {},
   "source": [
    "Lowest sale: South Dakota       \n",
    "Highest sale: Wyoming\n",
    "* The company should focus on improving their sales in South dakota, kansas, new mexico, north dakota, oregon and few more states whose share in sales is miniscule"
   ]
  },
  {
   "cell_type": "markdown",
   "id": "e4db1f89",
   "metadata": {},
   "source": [
    "Lowest profit: Ohio      \n",
    "Highest profit: Vermont\n",
    "* The company must find reasons why 10 states are leading to a loss with Ohio leading the charts. "
   ]
  },
  {
   "cell_type": "markdown",
   "id": "2db1fd1b",
   "metadata": {},
   "source": [
    "# Profit & Sales analysis on Cities"
   ]
  },
  {
   "cell_type": "code",
   "execution_count": null,
   "id": "8d40dffb",
   "metadata": {},
   "outputs": [],
   "source": [
    "px.bar(df.groupby('City').mean().reset_index().sort_values('Profit',ascending=False).head(50),x='City',y='Profit',color='Discount',hover_data=df.groupby('City').mean().reset_index().columns,\n",
    "      title='Top 50 Cities with highest number of profits')"
   ]
  },
  {
   "cell_type": "code",
   "execution_count": null,
   "id": "81c13f9e",
   "metadata": {},
   "outputs": [],
   "source": [
    "px.bar(df.groupby('City').mean().reset_index().sort_values('Profit',ascending=False).tail(50),x='City',y='Profit',color='Discount',hover_data=df.groupby('City').mean().reset_index().columns,\n",
    "      title='Top 50 Cities with Lowest number of profits')"
   ]
  },
  {
   "cell_type": "markdown",
   "id": "74ba9ef3",
   "metadata": {},
   "source": [
    "# Profit & Sales analysis on basis of each Category"
   ]
  },
  {
   "cell_type": "code",
   "execution_count": null,
   "id": "08c97d79",
   "metadata": {},
   "outputs": [],
   "source": [
    "sns.countplot(data=df,x='Category')\n",
    "plt.title('Number of Sales in each Category')\n",
    "plt.show()"
   ]
  },
  {
   "cell_type": "code",
   "execution_count": null,
   "id": "e2227621",
   "metadata": {},
   "outputs": [],
   "source": [
    "df.groupby(['Category'])[['Sales', 'Profit']].sum().sort_values('Profit').plot(kind='bar')\n",
    "plt.ticklabel_format(style='plain',axis='y')\n",
    "plt.title('Total Sales & Profit generated in each Category')\n",
    "plt.show()"
   ]
  },
  {
   "cell_type": "code",
   "execution_count": null,
   "id": "ea81cd3c",
   "metadata": {},
   "outputs": [],
   "source": [
    "df.groupby(['Category'])[['Sales', 'Profit','Discount']].mean()"
   ]
  },
  {
   "cell_type": "code",
   "execution_count": null,
   "id": "a319ec62",
   "metadata": {},
   "outputs": [],
   "source": [
    "df.groupby(['Category'])[['Sales', 'Profit','Discount']].mean().plot.pie(subplots=True, figsize=(20,10), labels=df.groupby(['Category'])[['Sales', 'Profit']].mean().index, autopct='%1.1f%%', explode=(0.01,0.01,0.01))\n",
    "plt.show()"
   ]
  },
  {
   "cell_type": "markdown",
   "id": "e4c76103",
   "metadata": {},
   "source": [
    "* Lowest sales: Office Supplies\t(24.5%)\n",
    "* Highest sales: Technology(12.9%)\n",
    "\n",
    "* Lowest profit: Furniture(8.1%)\n",
    "* Highest profit: Technology(73.1%)\n"
   ]
  },
  {
   "cell_type": "code",
   "execution_count": null,
   "id": "69a0b0c0",
   "metadata": {},
   "outputs": [],
   "source": [
    "fur_cat=df[df['Category']=='Furniture']"
   ]
  },
  {
   "cell_type": "code",
   "execution_count": null,
   "id": "f6a52ec6",
   "metadata": {},
   "outputs": [],
   "source": [
    "fur_cat.groupby(['Sub-Category'])[['Sales', 'Profit','Discount']].sum().sort_values('Profit').plot(kind='bar')\n",
    "plt.ticklabel_format(style='plain',axis='y')\n",
    "plt.title('Total Sales & Profit generated in Furniture Category')\n",
    "plt.show()"
   ]
  },
  {
   "cell_type": "markdown",
   "id": "61eae4de",
   "metadata": {},
   "source": [
    "**Tables & Bookcases are two main sub-category that making Furniture loss making category**"
   ]
  },
  {
   "cell_type": "markdown",
   "id": "1e905882",
   "metadata": {},
   "source": [
    "# Profit & Sales analysis on basis of Sub-Category"
   ]
  },
  {
   "cell_type": "code",
   "execution_count": null,
   "id": "61705bc6",
   "metadata": {},
   "outputs": [],
   "source": [
    "px.pie(df.groupby(['Sub-Category'])[['Sales']].count().reset_index(),names='Sub-Category',values='Sales',title=' ')"
   ]
  },
  {
   "cell_type": "code",
   "execution_count": null,
   "id": "60aa1ea4",
   "metadata": {},
   "outputs": [],
   "source": [
    "a=df.groupby(['Sub-Category'])[['Sales','Profit','Discount']].mean().reset_index()\n",
    "px.bar(a.sort_values('Sales',ascending=False),x='Sub-Category',y='Profit',color='Discount',hover_data=a.columns,title=\"Profit & Sales in each sub-category\")"
   ]
  },
  {
   "cell_type": "markdown",
   "id": "25605600",
   "metadata": {},
   "source": [
    "* Tables, Bookcases & Supplies are the three loss making sub-categories"
   ]
  },
  {
   "cell_type": "code",
   "execution_count": null,
   "id": "b6ff89c1",
   "metadata": {},
   "outputs": [],
   "source": [
    "tab_sub=df[df['Sub-Category']=='Tables']"
   ]
  },
  {
   "cell_type": "code",
   "execution_count": null,
   "id": "7b55707d",
   "metadata": {
    "scrolled": true
   },
   "outputs": [],
   "source": [
    "tab_sub.groupby('Region').mean()"
   ]
  },
  {
   "cell_type": "code",
   "execution_count": null,
   "id": "72d1eb5d",
   "metadata": {},
   "outputs": [],
   "source": [
    "tab_state=tab_sub.groupby('State').mean().reset_index().sort_values('Profit',ascending=False)\n",
    "\n",
    "px.bar(tab_state.sort_values('Sales',ascending=False),x='State',y='Profit',color='Discount',hover_data=tab_state.columns,title='Tables sales & profit from each state')"
   ]
  },
  {
   "cell_type": "code",
   "execution_count": null,
   "id": "c40d4060",
   "metadata": {},
   "outputs": [],
   "source": [
    "tab_city=tab_sub.groupby('City').mean().reset_index().sort_values('Profit',ascending=False)\n",
    "\n",
    "px.bar(tab_city.sort_values('Sales',ascending=False),x='City',y='Profit',color='Discount',hover_data=tab_city.columns,title='Table sales & profit from each cities')"
   ]
  },
  {
   "cell_type": "code",
   "execution_count": null,
   "id": "e8d59f7a",
   "metadata": {},
   "outputs": [],
   "source": [
    "book_sub=df[df['Sub-Category']=='Bookcases']"
   ]
  },
  {
   "cell_type": "code",
   "execution_count": null,
   "id": "4995a39b",
   "metadata": {},
   "outputs": [],
   "source": [
    "book_sub.groupby('Region').mean()"
   ]
  },
  {
   "cell_type": "code",
   "execution_count": null,
   "id": "63bdc620",
   "metadata": {},
   "outputs": [],
   "source": [
    "book_state=book_sub.groupby('State').mean().reset_index().sort_values('Profit',ascending=False)\n",
    "px.bar(book_state.sort_values('Sales',ascending=False),x='State',y='Profit',color='Discount',hover_data=book_state.columns,title='Bookcase sales & profit from each state')"
   ]
  },
  {
   "cell_type": "code",
   "execution_count": null,
   "id": "311d8161",
   "metadata": {},
   "outputs": [],
   "source": [
    "book_city=book_sub.groupby('City').mean().reset_index().sort_values('Profit',ascending=False)"
   ]
  },
  {
   "cell_type": "code",
   "execution_count": null,
   "id": "86fb6032",
   "metadata": {},
   "outputs": [],
   "source": [
    "book_city=book_sub.groupby('City').mean().reset_index().sort_values('Profit',ascending=False)\n",
    "\n",
    "px.bar(book_city.sort_values('Sales',ascending=False),x='City',y='Profit',color='Discount',hover_data=book_city.columns,title='Bookcase sales & profit from each cities')"
   ]
  },
  {
   "cell_type": "code",
   "execution_count": null,
   "id": "d6736719",
   "metadata": {},
   "outputs": [],
   "source": [
    "supply_sub=df[df['Sub-Category']=='Supplies']"
   ]
  },
  {
   "cell_type": "code",
   "execution_count": null,
   "id": "383f79e5",
   "metadata": {},
   "outputs": [],
   "source": [
    "supply_sub.groupby('Region').mean()"
   ]
  },
  {
   "cell_type": "code",
   "execution_count": null,
   "id": "13624226",
   "metadata": {},
   "outputs": [],
   "source": [
    "supply_state=supply_sub.groupby('State').mean().reset_index().sort_values('Profit',ascending=False)\n",
    "\n",
    "px.bar(supply_state.sort_values('Sales',ascending=False),x='State',y='Profit',color='Discount',hover_data=supply_state.columns,title='Supplie sales & profit from each State')"
   ]
  },
  {
   "cell_type": "code",
   "execution_count": null,
   "id": "dc111ac7",
   "metadata": {},
   "outputs": [],
   "source": [
    "supply_city=supply_sub.groupby('City').mean().reset_index().sort_values('Profit',ascending=False)\n",
    "\n",
    "px.bar(supply_city.sort_values('Sales',ascending=False),x='City',y='Profit',color='Discount',hover_data=supply_city.columns,title='Supplie sales & profit from each cities')"
   ]
  },
  {
   "cell_type": "markdown",
   "id": "52de2a79",
   "metadata": {},
   "source": [
    "**By looking at this situation the company needs to stop giving discounts in the states or cities where they are strugling to genrate profits or they need to discontinue the operations in those States and cities**"
   ]
  },
  {
   "cell_type": "markdown",
   "id": "2b8d682d",
   "metadata": {},
   "source": [
    "# Thank You"
   ]
  }
 ],
 "metadata": {
  "kernelspec": {
   "display_name": "Python 3 (ipykernel)",
   "language": "python",
   "name": "python3"
  },
  "language_info": {
   "codemirror_mode": {
    "name": "ipython",
    "version": 3
   },
   "file_extension": ".py",
   "mimetype": "text/x-python",
   "name": "python",
   "nbconvert_exporter": "python",
   "pygments_lexer": "ipython3",
   "version": "3.9.7"
  }
 },
 "nbformat": 4,
 "nbformat_minor": 5
}
